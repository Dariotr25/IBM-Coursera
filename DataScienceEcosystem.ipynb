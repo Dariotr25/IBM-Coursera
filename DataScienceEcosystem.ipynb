{
 "cells": [
  {
   "cell_type": "markdown",
   "id": "e60a447b-d760-421a-8c57-7e2bcc3db5d5",
   "metadata": {},
   "source": [
    "# Data Science Tools and Ecosystem"
   ]
  },
  {
   "cell_type": "markdown",
   "id": "454af0c2-a6db-4ff6-9f92-278c6f36571f",
   "metadata": {},
   "source": [
    "In this notebook, Data Science Tools and Ecosystem are summarized."
   ]
  },
  {
   "cell_type": "markdown",
   "id": "156c7509-ac5c-4715-b266-4e9a166c21e4",
   "metadata": {},
   "source": [
    "**Objectives:**\n",
    "- List popular languages for Data Science\n",
    "- list popular data science libraries\n",
    "- list popular tools for Data Science\n",
    "- introducing arithmetic expression examples\n"
   ]
  },
  {
   "cell_type": "markdown",
   "id": "11147aeb-07bf-4e55-a77a-1b4893ca0add",
   "metadata": {},
   "source": [
    "Some of the popular languages that Data Scientists use are:\n",
    "\n",
    "1. Python\n",
    "2. R\n",
    "3. Scala\n",
    "4. SQL"
   ]
  },
  {
   "cell_type": "markdown",
   "id": "3110cdef-3470-46b1-bb5a-1be05b0efb16",
   "metadata": {},
   "source": [
    "Some of the commonly used libraries used by Data Scientists include:\n",
    "\n",
    "1. Pandas\n",
    "2. Numpy\n",
    "3. Matplotlib\n",
    "4. TensorFlow"
   ]
  },
  {
   "cell_type": "markdown",
   "id": "86ec821e-3a77-46c1-8857-76d06a9e79c2",
   "metadata": {
    "tags": []
   },
   "source": [
    "|Data Science Tools|\n",
    "--\n",
    "|Jupyter notebooks|\n",
    "|SQL server|\n",
    "|MongoDB|\n",
    "\n"
   ]
  },
  {
   "cell_type": "markdown",
   "id": "2d9bd62c-3b0b-4bae-96b5-803b03e5daf7",
   "metadata": {},
   "source": [
    "### Below are a few examples of evaluating arithmetic expressions in Python.\n"
   ]
  },
  {
   "cell_type": "code",
   "execution_count": 1,
   "id": "67607ddd-2631-4a75-bc73-08c63d2e9f11",
   "metadata": {},
   "outputs": [
    {
     "data": {
      "text/plain": [
       "17"
      ]
     },
     "execution_count": 1,
     "metadata": {},
     "output_type": "execute_result"
    }
   ],
   "source": [
    "# This a simple arithmetic expression to mutiply then add integers\n",
    "(3*4)+5"
   ]
  },
  {
   "cell_type": "code",
   "execution_count": 2,
   "id": "dfadd8b1-611f-4530-b436-1d2e70a6bc8d",
   "metadata": {},
   "outputs": [
    {
     "data": {
      "text/plain": [
       "3.3333333333333335"
      ]
     },
     "execution_count": 2,
     "metadata": {},
     "output_type": "execute_result"
    }
   ],
   "source": [
    "# This will convert 200 minutes to hours by diving by 60\n",
    "200/60"
   ]
  },
  {
   "cell_type": "markdown",
   "id": "5dc32b9c-e3e8-4579-8d76-21389f0ab8f5",
   "metadata": {},
   "source": [
    "## Author \n",
    "Dario Tambone"
   ]
  },
  {
   "cell_type": "code",
   "execution_count": null,
   "id": "c7936a05-215a-4e7b-9d84-5eabf1d9aa4e",
   "metadata": {},
   "outputs": [],
   "source": []
  }
 ],
 "metadata": {
  "kernelspec": {
   "display_name": "Python 3 (ipykernel)",
   "language": "python",
   "name": "python3"
  },
  "language_info": {
   "codemirror_mode": {
    "name": "ipython",
    "version": 3
   },
   "file_extension": ".py",
   "mimetype": "text/x-python",
   "name": "python",
   "nbconvert_exporter": "python",
   "pygments_lexer": "ipython3",
   "version": "3.9.5"
  }
 },
 "nbformat": 4,
 "nbformat_minor": 5
}
